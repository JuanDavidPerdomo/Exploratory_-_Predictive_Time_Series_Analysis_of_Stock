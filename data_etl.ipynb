{
 "cells": [
  {
   "cell_type": "code",
   "execution_count": 152,
   "metadata": {},
   "outputs": [],
   "source": [
    "#To conect with Yahoo Finance API first install yfinance with -pip install yfinance-\n",
    "import yfinance as yf\n",
    "import pandas as pd"
   ]
  },
  {
   "cell_type": "code",
   "execution_count": 153,
   "metadata": {},
   "outputs": [],
   "source": [
    "path = 'C:\\\\Users\\\\juand\\\\Desktop\\\\TSA_project\\\\Exploratory_-_Predictive_Time_Series_Analysis_of_Stock'\n",
    "period_time = '5y'\n",
    "\n",
    "def get_history(stock_name):\n",
    "    yf.Ticker(stock_name).history(period=period_time).to_csv(path_or_buf=f'{path}\\\\{stock_name}.csv')\n",
    "\n"
   ]
  },
  {
   "cell_type": "code",
   "execution_count": 154,
   "metadata": {},
   "outputs": [],
   "source": [
    "apple = get_history('AAPL')\n",
    "msft = get_history('MSFT')\n",
    "amzn = get_history('AMZN')\n",
    "meta = get_history('META')\n",
    "googleAshares = get_history('GOOGL')\n",
    "nvidia = get_history('NVDA')\n",
    "intel = get_history('INTC')\n",
    "qualcomm = get_history('QCOM')"
   ]
  },
  {
   "cell_type": "code",
   "execution_count": null,
   "metadata": {},
   "outputs": [],
   "source": []
  },
  {
   "cell_type": "code",
   "execution_count": null,
   "metadata": {},
   "outputs": [],
   "source": []
  }
 ],
 "metadata": {
  "kernelspec": {
   "display_name": "venv",
   "language": "python",
   "name": "python3"
  },
  "language_info": {
   "codemirror_mode": {
    "name": "ipython",
    "version": 3
   },
   "file_extension": ".py",
   "mimetype": "text/x-python",
   "name": "python",
   "nbconvert_exporter": "python",
   "pygments_lexer": "ipython3",
   "version": "3.10.4"
  },
  "orig_nbformat": 4,
  "vscode": {
   "interpreter": {
    "hash": "cdd6239756c6da828dd68fe93bc5b03ad6ee83a32de1aecf8706932a30b358ce"
   }
  }
 },
 "nbformat": 4,
 "nbformat_minor": 2
}
