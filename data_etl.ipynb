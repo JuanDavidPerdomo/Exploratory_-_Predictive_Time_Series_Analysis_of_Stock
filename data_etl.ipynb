{
 "cells": [
  {
   "cell_type": "code",
   "execution_count": 5,
   "metadata": {},
   "outputs": [],
   "source": [
    "#To conect with Yahoo Finance API first install yfinance with -pip install yfinance-\n",
    "import yfinance as yf"
   ]
  },
  {
   "cell_type": "code",
   "execution_count": 6,
   "metadata": {},
   "outputs": [],
   "source": [
    "#setting ticker symbols from stocks\n",
    "ticker_apple = yf.Ticker('AAPL')\n",
    "ticker_msft = yf.Ticker('MSFT')\n",
    "ticker_amzn = yf.Ticker('AMZN')\n",
    "ticker_meta = yf.Ticker('META')\n",
    "ticker_googleAshares = yf.Ticker('GOOGL')\n",
    "ticker_nvidia = yf.Ticker('NVDA')\n",
    "ticker_intel = yf.Ticker('INTC')\n",
    "ticker_qualcomm = yf.Ticker('QCOM')\n"
   ]
  },
  {
   "cell_type": "code",
   "execution_count": null,
   "metadata": {},
   "outputs": [],
   "source": []
  },
  {
   "cell_type": "code",
   "execution_count": null,
   "metadata": {},
   "outputs": [],
   "source": []
  },
  {
   "cell_type": "code",
   "execution_count": null,
   "metadata": {},
   "outputs": [],
   "source": []
  }
 ],
 "metadata": {
  "kernelspec": {
   "display_name": "venv",
   "language": "python",
   "name": "python3"
  },
  "language_info": {
   "codemirror_mode": {
    "name": "ipython",
    "version": 3
   },
   "file_extension": ".py",
   "mimetype": "text/x-python",
   "name": "python",
   "nbconvert_exporter": "python",
   "pygments_lexer": "ipython3",
   "version": "3.10.4"
  },
  "orig_nbformat": 4,
  "vscode": {
   "interpreter": {
    "hash": "cdd6239756c6da828dd68fe93bc5b03ad6ee83a32de1aecf8706932a30b358ce"
   }
  }
 },
 "nbformat": 4,
 "nbformat_minor": 2
}
