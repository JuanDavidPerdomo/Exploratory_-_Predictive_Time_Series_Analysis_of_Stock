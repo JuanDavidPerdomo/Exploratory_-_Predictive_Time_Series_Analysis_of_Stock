{
 "cells": [
  {
   "cell_type": "code",
   "execution_count": 1,
   "metadata": {},
   "outputs": [],
   "source": [
    "import pandas as pd\n"
   ]
  },
  {
   "cell_type": "code",
   "execution_count": 2,
   "metadata": {},
   "outputs": [],
   "source": [
    "#A function to import csv using pandas\n",
    "\n",
    "def get_files(name):\n",
    "    path = f'.\\\\csv_files\\\\{name}.csv'\n",
    "    return pd.read_csv(path)"
   ]
  },
  {
   "cell_type": "code",
   "execution_count": 3,
   "metadata": {},
   "outputs": [],
   "source": [
    "aapl = get_files('AAPL')\n",
    "amzn = get_files('AMZN')\n",
    "google = get_files('GOOGL')\n",
    "intel = get_files('INTC')\n",
    "meta = get_files('META')\n",
    "msft = get_files('MSFT')\n",
    "nvidia = get_files('NVDA')\n",
    "qcom = get_files('QCOM')"
   ]
  },
  {
   "cell_type": "code",
   "execution_count": 4,
   "metadata": {},
   "outputs": [
    {
     "name": "stdout",
     "output_type": "stream",
     "text": [
      "                        Date       Open       High        Low      Close  \\\n",
      "0  2018-01-22 00:00:00-05:00  42.148631  42.262738  41.982224  42.077312   \n",
      "\n",
      "      Volume  Dividends  Stock Splits  \n",
      "0  108434400        0.0           0.0  \n",
      "                        Date       Open       High     Low      Close  \\\n",
      "0  2018-01-22 00:00:00-05:00  64.858498  66.372498  64.833  66.365501   \n",
      "\n",
      "     Volume  Dividends  Stock Splits  \n",
      "0  82802000        0.0           0.0  \n",
      "                        Date       Open       High     Low   Close    Volume  \\\n",
      "0  2018-01-22 00:00:00-05:00  57.191002  58.344002  57.091  58.208  29550000   \n",
      "\n",
      "   Dividends  Stock Splits  \n",
      "0        0.0           0.0  \n"
     ]
    }
   ],
   "source": [
    "print(aapl.head(1))\n",
    "print(amzn.head(1))\n",
    "print(google.head(1))"
   ]
  },
  {
   "cell_type": "code",
   "execution_count": 5,
   "metadata": {},
   "outputs": [],
   "source": [
    "#Cleaning and renaming dataframes with for loops\n",
    "\n",
    "stocks_list = [aapl, amzn, google, intel, meta, msft, nvidia, qcom]\n",
    "stocks_name = ['AAPL','AMZN','GOOGL','INTC','META','MSFT','NVDA','QCOM']\n",
    "\n",
    "for stock in stocks_list:\n",
    "    stock.drop(['Open', 'High', 'Low', 'Volume', 'Dividends', 'Stock Splits'], axis=1, inplace=True)\n",
    "    \n",
    "for idx in enumerate(range(len(stocks_name))):\n",
    "    stocks_list[idx[0]].rename(columns={'Close': f'{stocks_name[idx[0]]}'}, inplace=True)"
   ]
  },
  {
   "cell_type": "code",
   "execution_count": 6,
   "metadata": {},
   "outputs": [
    {
     "name": "stdout",
     "output_type": "stream",
     "text": [
      "                        Date       AAPL\n",
      "0  2018-01-22 00:00:00-05:00  42.077312\n",
      "                        Date       AMZN\n",
      "0  2018-01-22 00:00:00-05:00  66.365501\n",
      "                        Date   GOOGL\n",
      "0  2018-01-22 00:00:00-05:00  58.208\n"
     ]
    }
   ],
   "source": [
    "#Checking data integrity after cleaning loops\n",
    "\n",
    "print(aapl.head(1))\n",
    "print(amzn.head(1))\n",
    "print(google.head(1))"
   ]
  },
  {
   "cell_type": "code",
   "execution_count": 7,
   "metadata": {},
   "outputs": [],
   "source": [
    "#merging dataframes\n",
    "\n",
    "df1 = pd.merge(aapl,amzn, on='Date')\n",
    "df2 = pd.merge(google,intel, on='Date')\n",
    "df3 = pd.merge(meta,msft, on='Date')\n",
    "df4 = pd.merge(nvidia,qcom, on='Date')\n",
    "df5 = pd.merge(df1,df2, on='Date')\n",
    "df6 = pd.merge(df3,df4, on='Date')\n",
    "\n",
    "df = pd.merge(df5,df6, on='Date')"
   ]
  },
  {
   "cell_type": "code",
   "execution_count": 8,
   "metadata": {},
   "outputs": [],
   "source": [
    "df['Date'] = df['Date'].astype(str).str[:10]\n",
    "df['Date'] = pd.to_datetime(df['Date'])"
   ]
  },
  {
   "cell_type": "code",
   "execution_count": 9,
   "metadata": {},
   "outputs": [
    {
     "name": "stdout",
     "output_type": "stream",
     "text": [
      "<class 'pandas.core.frame.DataFrame'>\n",
      "Int64Index: 1258 entries, 0 to 1257\n",
      "Data columns (total 9 columns):\n",
      " #   Column  Non-Null Count  Dtype         \n",
      "---  ------  --------------  -----         \n",
      " 0   Date    1258 non-null   datetime64[ns]\n",
      " 1   AAPL    1258 non-null   float64       \n",
      " 2   AMZN    1258 non-null   float64       \n",
      " 3   GOOGL   1258 non-null   float64       \n",
      " 4   INTC    1258 non-null   float64       \n",
      " 5   META    1258 non-null   float64       \n",
      " 6   MSFT    1258 non-null   float64       \n",
      " 7   NVDA    1258 non-null   float64       \n",
      " 8   QCOM    1258 non-null   float64       \n",
      "dtypes: datetime64[ns](1), float64(8)\n",
      "memory usage: 98.3 KB\n"
     ]
    }
   ],
   "source": [
    "df.info()"
   ]
  },
  {
   "cell_type": "code",
   "execution_count": 10,
   "metadata": {},
   "outputs": [],
   "source": [
    "df.to_csv('.\\\\csv_files\\\\dataframe\\\\df.csv')\n",
    "\n",
    "\n",
    "    "
   ]
  }
 ],
 "metadata": {
  "kernelspec": {
   "display_name": "venv",
   "language": "python",
   "name": "python3"
  },
  "language_info": {
   "codemirror_mode": {
    "name": "ipython",
    "version": 3
   },
   "file_extension": ".py",
   "mimetype": "text/x-python",
   "name": "python",
   "nbconvert_exporter": "python",
   "pygments_lexer": "ipython3",
   "version": "3.10.4"
  },
  "orig_nbformat": 4,
  "vscode": {
   "interpreter": {
    "hash": "cdd6239756c6da828dd68fe93bc5b03ad6ee83a32de1aecf8706932a30b358ce"
   }
  }
 },
 "nbformat": 4,
 "nbformat_minor": 2
}
